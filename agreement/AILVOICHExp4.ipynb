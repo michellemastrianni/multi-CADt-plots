{
 "cells": [
  {
   "cell_type": "code",
   "execution_count": 9,
   "metadata": {},
   "outputs": [],
   "source": [
    "import numpy, matplotlib, pickle, pandas\n",
    "\n",
    "#matplotlib.use ('Agg')\n",
    "import matplotlib.pyplot as plt\n",
    "import matplotlib.gridspec as gridspec"
   ]
  },
  {
   "cell_type": "code",
   "execution_count": 4,
   "metadata": {},
   "outputs": [
    {
     "ename": "NameError",
     "evalue": "name 'results' is not defined",
     "output_type": "error",
     "traceback": [
      "\u001b[1;31m---------------------------------------------------------------------------\u001b[0m",
      "\u001b[1;31mNameError\u001b[0m                                 Traceback (most recent call last)",
      "Cell \u001b[1;32mIn[4], line 1\u001b[0m\n\u001b[1;32m----> 1\u001b[0m \u001b[43mresults\u001b[49m\n",
      "\u001b[1;31mNameError\u001b[0m: name 'results' is not defined"
     ]
    }
   ],
   "source": [
    "results"
   ]
  },
  {
   "cell_type": "code",
   "execution_count": 10,
   "metadata": {},
   "outputs": [],
   "source": [
    "def plot_sim_theory_diseased (outFile, diseases, results):\n",
    "\n",
    "    ## Set up canvas\n",
    "    h  = plt.figure (figsize=(7.5, 7.5))\n",
    "    gs = gridspec.GridSpec (2, 1, height_ratios=[4, 1])\n",
    "    #gs.update (bottom=0.1)\n",
    "\n",
    "    ## Top plot: priority and hierarchical wait-time per condition\n",
    "    axis = h.add_subplot (gs[0])\n",
    "\n",
    "    yrange = [numpy.inf, -numpy.inf]\n",
    "    for qtype in ['fifo', 'priority', 'hierarchical']:\n",
    "        filtered_df = results[results.index.str.contains(qtype)]\n",
    "        ## For fifo (without-CADt), only one data point\n",
    "        if qtype == 'fifo':\n",
    "            ylower = filtered_df.loc['fifo_non-interrupting', 'lowerSim']\n",
    "            yupper = filtered_df.loc['fifo_non-interrupting', 'higherSim']\n",
    "            yvalue = filtered_df.loc['fifo_non-interrupting', 'sim']\n",
    "            yerror = [[yvalue - ylower], [yupper - yvalue]]\n",
    "            axis.errorbar (1, filtered_df.loc['fifo_non-interrupting', 'sim'],\n",
    "                           marker='x', ms=10, color='blue',\n",
    "                           yerr=yerror, label='w/o CADt',\n",
    "                           elinewidth=2, alpha=0.7, ecolor='blue', linestyle='')      \n",
    "            axis.scatter (1, filtered_df.loc['fifo_non-interrupting', 'theory'],\n",
    "                          marker='*', s=100, facecolors='none', edgecolors='blue', alpha=0.7) \n",
    "            if ylower < yrange[0]: yrange[0] = ylower\n",
    "            if yupper > yrange[1]: yrange[1] = yupper\n",
    "            continue\n",
    "        ## For priority/hierarchical, it is per-condition\n",
    "        xvalues, svalues, slowers, suppers, tvalues = [], [], [], [], []\n",
    "        color = 'red' if qtype=='priority' else 'green'\n",
    "        offset = -0.15 if qtype == 'priority' else +0.15\n",
    "        for dindex, disease in enumerate (diseases):\n",
    "            xvalues.append (dindex+2+offset)\n",
    "            indexname = qtype + ' ' + disease\n",
    "            svalues.append (filtered_df.loc[indexname, 'sim'])\n",
    "            slowers.append (filtered_df.loc[indexname, 'lowerSim'])\n",
    "            suppers.append (filtered_df.loc[indexname, 'higherSim'])\n",
    "            tvalues.append (filtered_df.loc[indexname, 'theory'])\n",
    "        svalues = numpy.array (svalues)\n",
    "        slowers = numpy.array (slowers)\n",
    "        suppers = numpy.array (suppers)\n",
    "        yerror = [svalues - slowers, suppers - svalues]\n",
    "        axis.errorbar (xvalues, svalues, marker='x', ms=10, color=color,\n",
    "                       yerr=yerror, label=qtype + '; sim',\n",
    "                       elinewidth=2, alpha=0.5, ecolor=color, linestyle='')      \n",
    "        axis.scatter (xvalues, tvalues, marker='*', s=100, facecolors='none',\n",
    "                      edgecolors=color, alpha=0.7, label=qtype + '; theory') \n",
    "        if min (slowers) < yrange[0]: yrange[0] = min (slowers)\n",
    "        if max (suppers) > yrange[1]: yrange[1] = max (suppers)        \n",
    "\n",
    "    ## Format plotting style\n",
    "    #  x-axis\n",
    "    axis.set_xlim (0, len (diseases)+2)\n",
    "    xticks = numpy.arange (len (diseases)+2)\n",
    "    axis.set_xticks (xticks)\n",
    "    axis.set_xticklabels([])\n",
    "    for xtick in axis.get_xticks():\n",
    "        axis.axvline (x=xtick, color='gray', alpha=0.3, linestyle='--', linewidth=0.3)\n",
    "    #  y-axis\n",
    "    yrange[1] += 70\n",
    "    axis.set_ylim (yrange)\n",
    "    axis.set_ylabel ('Mean wait-time [min]')\n",
    "    for ytick in axis.get_yticks():\n",
    "        axis.axhline (y=ytick, color='gray', alpha=0.3, linestyle='--', linewidth=0.3)\n",
    "    #  legend and title\n",
    "    axis.legend (loc=1, ncol=2, prop={'size':12})\n",
    "    axis.set_title ('Simulation & theory', fontsize=15)\n",
    "\n",
    "    ## Bottom plot: time-savings\n",
    "    axis = h.add_subplot (gs[1])\n",
    "\n",
    "    for qtype in ['priority', 'hierarchical']:\n",
    "        filtered_df = results[results.index.str.contains(qtype)]\n",
    "        noAI_svalue = results.loc['fifo_non-interrupting', 'sim']\n",
    "        noAI_tvalue = results.loc['fifo_non-interrupting', 'theory']\n",
    "        ## For priority/hierarchical, it is per-condition\n",
    "        xvalues, svalues, tvalues = [], [], []\n",
    "        color = 'red' if qtype=='priority' else 'green'\n",
    "        offset = -0.15 if qtype == 'priority' else +0.15\n",
    "        for dindex, disease in enumerate (diseases):\n",
    "            xvalues.append (dindex+2+offset)\n",
    "            indexname = qtype + ' ' + disease\n",
    "            svalues.append (filtered_df.loc[indexname, 'sim'] - noAI_svalue)\n",
    "            tvalues.append (filtered_df.loc[indexname, 'theory'] - noAI_tvalue)\n",
    "        axis.scatter (xvalues, svalues, marker='x', c=color, s=100, alpha=0.7, label='sim')    \n",
    "        axis.scatter (xvalues, tvalues, marker='*', s=100, facecolors='none',\n",
    "                      edgecolors=color, alpha=0.7) \n",
    "\n",
    "    ## Format plotting style\n",
    "    #  x-axis\n",
    "    axis.set_xlim (0, len (diseases)+2)\n",
    "    xticks = numpy.arange (len (diseases)+2)\n",
    "    axis.set_xticks (xticks)\n",
    "    xticklabels = ['', 'no-AI'] + list (diseases)\n",
    "    axis.set_xticklabels (xticklabels, fontsize=12)\n",
    "    axis.tick_params (axis='x', labelsize=12)\n",
    "    for xtick in axis.get_xticks():\n",
    "        axis.axvline (x=xtick, color='gray', alpha=0.3, linestyle='--', linewidth=0.3)\n",
    "    #  y-axis\n",
    "    #axis.set_ylim (yrange)\n",
    "    axis.set_ylabel ('time-savings\\n[min]')\n",
    "    for ytick in axis.get_yticks():\n",
    "        axis.axhline (y=ytick, color='gray', alpha=0.3, linestyle='--', linewidth=0.3)\n",
    "    #  legend and title\n",
    "    #axis.legend (loc=1, ncol=1, prop={'size':12})\n",
    "\n",
    "    h.savefig (outFile)\n",
    "    plt.close('all')\n"
   ]
  },
  {
   "cell_type": "code",
   "execution_count": 11,
   "metadata": {},
   "outputs": [],
   "source": [
    "with open ('AILVOICHExp4_hypoMixed.p', 'rb') as f:\n",
    "    results = pickle.load (f)\n",
    "f.close ()\n",
    "\n",
    "results = pandas.DataFrame (results)\n",
    "diseases = [rowname.split()[1] for rowname in results.index if 'hierarchical' in rowname]\n",
    "\n",
    "plot_sim_theory_diseased ('plots/AILVOICHExp3_Mixed.pdf', diseases, results)"
   ]
  },
  {
   "cell_type": "code",
   "execution_count": 7,
   "metadata": {},
   "outputs": [
    {
     "ename": "FileNotFoundError",
     "evalue": "[Errno 2] No such file or directory: 'AILVOICHExp4_hypoOrdered.p'",
     "output_type": "error",
     "traceback": [
      "\u001b[1;31m---------------------------------------------------------------------------\u001b[0m",
      "\u001b[1;31mFileNotFoundError\u001b[0m                         Traceback (most recent call last)",
      "Cell \u001b[1;32mIn[7], line 1\u001b[0m\n\u001b[1;32m----> 1\u001b[0m \u001b[38;5;28;01mwith\u001b[39;00m \u001b[38;5;28;43mopen\u001b[39;49m\u001b[43m \u001b[49m\u001b[43m(\u001b[49m\u001b[38;5;124;43m'\u001b[39;49m\u001b[38;5;124;43mAILVOICHExp4_hypoOrdered.p\u001b[39;49m\u001b[38;5;124;43m'\u001b[39;49m\u001b[43m,\u001b[49m\u001b[43m \u001b[49m\u001b[38;5;124;43m'\u001b[39;49m\u001b[38;5;124;43mrb\u001b[39;49m\u001b[38;5;124;43m'\u001b[39;49m\u001b[43m)\u001b[49m \u001b[38;5;28;01mas\u001b[39;00m f:\n\u001b[0;32m      2\u001b[0m     results \u001b[38;5;241m=\u001b[39m pickle\u001b[38;5;241m.\u001b[39mload (f)\n\u001b[0;32m      3\u001b[0m f\u001b[38;5;241m.\u001b[39mclose ()\n",
      "File \u001b[1;32m~\\OneDrive - FDA\\Desktop\\cadt-rule-out\\.venv\\Lib\\site-packages\\IPython\\core\\interactiveshell.py:310\u001b[0m, in \u001b[0;36m_modified_open\u001b[1;34m(file, *args, **kwargs)\u001b[0m\n\u001b[0;32m    303\u001b[0m \u001b[38;5;28;01mif\u001b[39;00m file \u001b[38;5;129;01min\u001b[39;00m {\u001b[38;5;241m0\u001b[39m, \u001b[38;5;241m1\u001b[39m, \u001b[38;5;241m2\u001b[39m}:\n\u001b[0;32m    304\u001b[0m     \u001b[38;5;28;01mraise\u001b[39;00m \u001b[38;5;167;01mValueError\u001b[39;00m(\n\u001b[0;32m    305\u001b[0m         \u001b[38;5;124mf\u001b[39m\u001b[38;5;124m\"\u001b[39m\u001b[38;5;124mIPython won\u001b[39m\u001b[38;5;124m'\u001b[39m\u001b[38;5;124mt let you open fd=\u001b[39m\u001b[38;5;132;01m{\u001b[39;00mfile\u001b[38;5;132;01m}\u001b[39;00m\u001b[38;5;124m by default \u001b[39m\u001b[38;5;124m\"\u001b[39m\n\u001b[0;32m    306\u001b[0m         \u001b[38;5;124m\"\u001b[39m\u001b[38;5;124mas it is likely to crash IPython. If you know what you are doing, \u001b[39m\u001b[38;5;124m\"\u001b[39m\n\u001b[0;32m    307\u001b[0m         \u001b[38;5;124m\"\u001b[39m\u001b[38;5;124myou can use builtins\u001b[39m\u001b[38;5;124m'\u001b[39m\u001b[38;5;124m open.\u001b[39m\u001b[38;5;124m\"\u001b[39m\n\u001b[0;32m    308\u001b[0m     )\n\u001b[1;32m--> 310\u001b[0m \u001b[38;5;28;01mreturn\u001b[39;00m \u001b[43mio_open\u001b[49m\u001b[43m(\u001b[49m\u001b[43mfile\u001b[49m\u001b[43m,\u001b[49m\u001b[43m \u001b[49m\u001b[38;5;241;43m*\u001b[39;49m\u001b[43margs\u001b[49m\u001b[43m,\u001b[49m\u001b[43m \u001b[49m\u001b[38;5;241;43m*\u001b[39;49m\u001b[38;5;241;43m*\u001b[39;49m\u001b[43mkwargs\u001b[49m\u001b[43m)\u001b[49m\n",
      "\u001b[1;31mFileNotFoundError\u001b[0m: [Errno 2] No such file or directory: 'AILVOICHExp4_hypoOrdered.p'"
     ]
    }
   ],
   "source": [
    "with open ('AILVOICHExp4_hypoOrdered.p', 'rb') as f:\n",
    "    results = pickle.load (f)\n",
    "f.close ()\n",
    "\n",
    "results = pandas.DataFrame (results)\n",
    "diseases = [rowname.split()[1] for rowname in results.index if 'hierarchical' in rowname]\n",
    "\n",
    "plot_sim_theory_diseased ('plots/AILVOICHExp3_Ordered.pdf', diseases, results)"
   ]
  },
  {
   "cell_type": "code",
   "execution_count": null,
   "metadata": {},
   "outputs": [],
   "source": []
  }
 ],
 "metadata": {
  "kernelspec": {
   "display_name": "Python 3 (ipykernel)",
   "language": "python",
   "name": "python3"
  },
  "language_info": {
   "codemirror_mode": {
    "name": "ipython",
    "version": 3
   },
   "file_extension": ".py",
   "mimetype": "text/x-python",
   "name": "python",
   "nbconvert_exporter": "python",
   "pygments_lexer": "ipython3",
   "version": "3.12.1"
  }
 },
 "nbformat": 4,
 "nbformat_minor": 4
}
